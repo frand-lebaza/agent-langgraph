{
 "cells": [
  {
   "cell_type": "code",
   "execution_count": 7,
   "id": "96003aaa",
   "metadata": {},
   "outputs": [],
   "source": [
    "from dataclasses import dataclass\n",
    "from typing import Optional\n",
    "from langgraph.graph import StateGraph, END\n",
    "from IPython.display import Image, display"
   ]
  },
  {
   "cell_type": "code",
   "execution_count": 8,
   "id": "053cac57",
   "metadata": {},
   "outputs": [],
   "source": [
    "@dataclass\n",
    "class ConversationState:\n",
    "    user_input: Optional[str] = None\n",
    "    mensaje: Optional[str] = None\n",
    "    saldo: int = 1000"
   ]
  },
  {
   "cell_type": "code",
   "execution_count": 9,
   "id": "cddab0e3",
   "metadata": {},
   "outputs": [],
   "source": [
    "def nodo_inicio(state: ConversationState) -> ConversationState:\n",
    "    return ConversationState(\n",
    "        user_input=state.user_input,\n",
    "        mensaje=\" Bienvenido a tu banco. ¿Qué deseas hacer? Opciones: Consultar, retirar, depositar, salir\"\n",
    "    )\n",
    "\n",
    "def nodo_consultar(state: ConversationState) ->  ConversationState:\n",
    "    return ConversationState(\n",
    "        user_input=state.user_input,\n",
    "        mensaje=f\"Tu saldo actual es: ${state.saldo}\"\n",
    "    )\n",
    "\n",
    "def nodo_retirar(state: ConversationState) -> ConversationState:\n",
    "    return ConversationState(\n",
    "        user_input=state.user_input,\n",
    "        mensaje=\"¿Cuánto dinero deseas retirar?: \",\n",
    "        saldo = state.saldo - int(input(\"Ingresa el saldo a retirar: \"))  \n",
    "    )\n",
    "    \n",
    "def nodo_depositar(state: ConversationState) -> ConversationState:\n",
    "    return ConversationState(\n",
    "        user_input=state.user_input,\n",
    "        mensaje=f\"¿Cuánto dinero deseas depositar? \",\n",
    "        saldo= state.saldo + int(input(\"Ingresa el saldo a depositar: \"))        \n",
    "    )\n",
    "\n",
    "def nodo_saldo(state: ConversationState) -> ConversationState:\n",
    "    return ConversationState(\n",
    "        user_input=state.user_input,\n",
    "        mensaje=f\"Tu nuevo saldo es: ${state.saldo}\",\n",
    "        saldo=state.saldo\n",
    "    )\n",
    "    \n",
    "def nodo_default(state: ConversationState) -> ConversationState:\n",
    "    return ConversationState(\n",
    "        user_input=state.user_input,\n",
    "        mensaje=\"No entendi tu respuesta.\"\n",
    "    )"
   ]
  },
  {
   "cell_type": "code",
   "execution_count": 10,
   "id": "0739bcc0",
   "metadata": {},
   "outputs": [],
   "source": [
    "def decidir_ruta(state: ConversationState) -> str:\n",
    "    if state.user_input is None:\n",
    "        return \"default\"\n",
    "    texto = state.user_input.lower().strip()\n",
    "    if texto == \"consultar\":\n",
    "        return \"consultar\"\n",
    "    elif texto == \"retirar\":\n",
    "        return \"retirar\"\n",
    "    elif texto == \"depositar\":\n",
    "        return \"depositar\"\n",
    "    else:\n",
    "        return \"default\""
   ]
  },
  {
   "cell_type": "code",
   "execution_count": 11,
   "id": "e8f41762",
   "metadata": {},
   "outputs": [],
   "source": [
    "graph = StateGraph(ConversationState)\n",
    "\n",
    "graph.add_node(\"inicio\", nodo_inicio)\n",
    "graph.add_node(\"consultar\", nodo_consultar)\n",
    "graph.add_node(\"retirar\", nodo_retirar)\n",
    "graph.add_node(\"depositar\", nodo_depositar)\n",
    "graph.add_node(\"saldo\", nodo_saldo)\n",
    "graph.add_node(\"default\", nodo_default)\n",
    "\n",
    "graph.set_entry_point(\"inicio\")\n",
    "\n",
    "graph.add_conditional_edges(\n",
    "    \"inicio\",\n",
    "    decidir_ruta,\n",
    "    {\n",
    "        \"consultar\": \"consultar\",\n",
    "        \"retirar\": \"retirar\",\n",
    "        \"depositar\": \"depositar\",        \n",
    "        \"default\": \"default\",\n",
    "    }\n",
    ")\n",
    "\n",
    "graph.add_edge(\"consultar\", \"saldo\")\n",
    "graph.add_edge(\"retirar\", \"saldo\")\n",
    "graph.add_edge(\"depositar\", \"saldo\")\n",
    "graph.add_edge(\"default\", END)\n",
    "\n",
    "app = graph.compile()"
   ]
  },
  {
   "cell_type": "code",
   "execution_count": 15,
   "id": "4fd7e0d8",
   "metadata": {},
   "outputs": [
    {
     "data": {
      "image/png": "[encoded data removed]",
      "text/plain": [
       "<IPython.core.display.Image object>"
      ]
     },
     "metadata": {},
     "output_type": "display_data"
    }
   ],
   "source": [
    "display(Image(app.get_graph().draw_mermaid_png()))"
   ]
  },
  {
   "cell_type": "code",
   "execution_count": 16,
   "id": "faef26c6",
   "metadata": {},
   "outputs": [
    {
     "name": "stdout",
     "output_type": "stream",
     "text": [
      "{'inicio': {'user_input': 'retirar', 'mensaje': ' Bienvenido a tu banco. ¿Qué deseas hacer? Opciones: Consultar, retirar, depositar, salir', 'saldo': 1000}}\n",
      "{'retirar': {'user_input': 'retirar', 'mensaje': '¿Cuánto dinero deseas retirar?: ', 'saldo': 875}}\n",
      "{'saldo': {'user_input': 'retirar', 'mensaje': 'Tu nuevo saldo es: $875', 'saldo': 875}}\n"
     ]
    }
   ],
   "source": [
    "if __name__ == \"__main__\":\n",
    "    state = ConversationState(user_input=input(\"Tú: \"))\n",
    "    for step in app.stream(state):\n",
    "        print(step)"
   ]
  }
 ],
 "metadata": {
  "kernelspec": {
   "display_name": "envlg",
   "language": "python",
   "name": "python3"
  },
  "language_info": {
   "codemirror_mode": {
    "name": "ipython",
    "version": 3
   },
   "file_extension": ".py",
   "mimetype": "text/x-python",
   "name": "python",
   "nbconvert_exporter": "python",
   "pygments_lexer": "ipython3",
   "version": "3.13.7"
  }
 },
 "nbformat": 4,
 "nbformat_minor": 5
}
